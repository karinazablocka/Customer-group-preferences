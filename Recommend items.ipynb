{
 "cells": [
  {
   "cell_type": "markdown",
   "id": "ab76aa9d",
   "metadata": {},
   "source": [
    "## LIBRARIES"
   ]
  },
  {
   "cell_type": "code",
   "execution_count": 80,
   "id": "a5f34051",
   "metadata": {},
   "outputs": [],
   "source": [
    "import pandas as pd"
   ]
  },
  {
   "cell_type": "markdown",
   "id": "c833beaa",
   "metadata": {},
   "source": [
    "## READ THE DATA"
   ]
  },
  {
   "cell_type": "code",
   "execution_count": 81,
   "id": "f3a43083",
   "metadata": {},
   "outputs": [
    {
     "data": {
      "text/html": [
       "<div>\n",
       "<style scoped>\n",
       "    .dataframe tbody tr th:only-of-type {\n",
       "        vertical-align: middle;\n",
       "    }\n",
       "\n",
       "    .dataframe tbody tr th {\n",
       "        vertical-align: top;\n",
       "    }\n",
       "\n",
       "    .dataframe thead th {\n",
       "        text-align: right;\n",
       "    }\n",
       "</style>\n",
       "<table border=\"1\" class=\"dataframe\">\n",
       "  <thead>\n",
       "    <tr style=\"text-align: right;\">\n",
       "      <th></th>\n",
       "      <th>userId</th>\n",
       "      <th>ItemId</th>\n",
       "    </tr>\n",
       "  </thead>\n",
       "  <tbody>\n",
       "    <tr>\n",
       "      <th>0</th>\n",
       "      <td>1001</td>\n",
       "      <td>5001</td>\n",
       "    </tr>\n",
       "    <tr>\n",
       "      <th>1</th>\n",
       "      <td>1001</td>\n",
       "      <td>5002</td>\n",
       "    </tr>\n",
       "    <tr>\n",
       "      <th>2</th>\n",
       "      <td>1001</td>\n",
       "      <td>5005</td>\n",
       "    </tr>\n",
       "    <tr>\n",
       "      <th>3</th>\n",
       "      <td>1002</td>\n",
       "      <td>5003</td>\n",
       "    </tr>\n",
       "    <tr>\n",
       "      <th>4</th>\n",
       "      <td>1002</td>\n",
       "      <td>5004</td>\n",
       "    </tr>\n",
       "    <tr>\n",
       "      <th>5</th>\n",
       "      <td>1002</td>\n",
       "      <td>5005</td>\n",
       "    </tr>\n",
       "    <tr>\n",
       "      <th>6</th>\n",
       "      <td>1003</td>\n",
       "      <td>5001</td>\n",
       "    </tr>\n",
       "    <tr>\n",
       "      <th>7</th>\n",
       "      <td>1003</td>\n",
       "      <td>5002</td>\n",
       "    </tr>\n",
       "    <tr>\n",
       "      <th>8</th>\n",
       "      <td>1004</td>\n",
       "      <td>5001</td>\n",
       "    </tr>\n",
       "    <tr>\n",
       "      <th>9</th>\n",
       "      <td>1004</td>\n",
       "      <td>5004</td>\n",
       "    </tr>\n",
       "    <tr>\n",
       "      <th>10</th>\n",
       "      <td>1004</td>\n",
       "      <td>5005</td>\n",
       "    </tr>\n",
       "    <tr>\n",
       "      <th>11</th>\n",
       "      <td>1005</td>\n",
       "      <td>5002</td>\n",
       "    </tr>\n",
       "    <tr>\n",
       "      <th>12</th>\n",
       "      <td>1005</td>\n",
       "      <td>5004</td>\n",
       "    </tr>\n",
       "  </tbody>\n",
       "</table>\n",
       "</div>"
      ],
      "text/plain": [
       "    userId  ItemId\n",
       "0     1001    5001\n",
       "1     1001    5002\n",
       "2     1001    5005\n",
       "3     1002    5003\n",
       "4     1002    5004\n",
       "5     1002    5005\n",
       "6     1003    5001\n",
       "7     1003    5002\n",
       "8     1004    5001\n",
       "9     1004    5004\n",
       "10    1004    5005\n",
       "11    1005    5002\n",
       "12    1005    5004"
      ]
     },
     "execution_count": 81,
     "metadata": {},
     "output_type": "execute_result"
    }
   ],
   "source": [
    "data = pd.read_csv(\"ratings.csv\")\n",
    "userItemData = pd.read_csv('ratings.csv')\n",
    "\n",
    "data"
   ]
  },
  {
   "cell_type": "code",
   "execution_count": 82,
   "id": "27d3ee8c",
   "metadata": {},
   "outputs": [
    {
     "name": "stdout",
     "output_type": "stream",
     "text": [
      "<class 'pandas.core.frame.DataFrame'>\n",
      "RangeIndex: 13 entries, 0 to 12\n",
      "Data columns (total 2 columns):\n",
      " #   Column  Non-Null Count  Dtype\n",
      "---  ------  --------------  -----\n",
      " 0   userId  13 non-null     int64\n",
      " 1   ItemId  13 non-null     int64\n",
      "dtypes: int64(2)\n",
      "memory usage: 336.0 bytes\n"
     ]
    }
   ],
   "source": [
    "data.info()"
   ]
  },
  {
   "cell_type": "markdown",
   "id": "a786bd8e",
   "metadata": {},
   "source": [
    "## AFFINITY SCORE"
   ]
  },
  {
   "cell_type": "code",
   "execution_count": 83,
   "id": "e1558359",
   "metadata": {
    "scrolled": true
   },
   "outputs": [],
   "source": [
    "# List of unique items\n",
    "item_list = list(set(data[\"ItemId\"].tolist()))\n",
    "\n",
    "# Count of Users\n",
    "userCount=len(set(data[\"ItemId\"].tolist()))\n",
    "\n",
    "# Empty data frame to store item affinity scores for items\n",
    "item_affinity = pd.DataFrame(columns=(\"item1\",\"item2\",\"score\"))\n",
    "item_affinity\n",
    "row_count=0"
   ]
  },
  {
   "cell_type": "code",
   "execution_count": 84,
   "id": "66d19135",
   "metadata": {
    "scrolled": true
   },
   "outputs": [
    {
     "data": {
      "text/plain": [
       "[5001, 5002, 5003, 5004, 5005]"
      ]
     },
     "execution_count": 84,
     "metadata": {},
     "output_type": "execute_result"
    }
   ],
   "source": [
    "item_list"
   ]
  },
  {
   "cell_type": "code",
   "execution_count": 85,
   "id": "414f8469",
   "metadata": {},
   "outputs": [
    {
     "data": {
      "text/plain": [
       "5"
      ]
     },
     "execution_count": 85,
     "metadata": {},
     "output_type": "execute_result"
    }
   ],
   "source": [
    "user_count"
   ]
  },
  {
   "cell_type": "code",
   "execution_count": 86,
   "id": "eaa919e3",
   "metadata": {},
   "outputs": [
    {
     "data": {
      "text/html": [
       "<div>\n",
       "<style scoped>\n",
       "    .dataframe tbody tr th:only-of-type {\n",
       "        vertical-align: middle;\n",
       "    }\n",
       "\n",
       "    .dataframe tbody tr th {\n",
       "        vertical-align: top;\n",
       "    }\n",
       "\n",
       "    .dataframe thead th {\n",
       "        text-align: right;\n",
       "    }\n",
       "</style>\n",
       "<table border=\"1\" class=\"dataframe\">\n",
       "  <thead>\n",
       "    <tr style=\"text-align: right;\">\n",
       "      <th></th>\n",
       "      <th>item1</th>\n",
       "      <th>item2</th>\n",
       "      <th>score</th>\n",
       "    </tr>\n",
       "  </thead>\n",
       "  <tbody>\n",
       "    <tr>\n",
       "      <th>0</th>\n",
       "      <td>5001.0</td>\n",
       "      <td>5002.0</td>\n",
       "      <td>0.4</td>\n",
       "    </tr>\n",
       "    <tr>\n",
       "      <th>1</th>\n",
       "      <td>5002.0</td>\n",
       "      <td>5001.0</td>\n",
       "      <td>0.4</td>\n",
       "    </tr>\n",
       "    <tr>\n",
       "      <th>2</th>\n",
       "      <td>5001.0</td>\n",
       "      <td>5003.0</td>\n",
       "      <td>0.0</td>\n",
       "    </tr>\n",
       "    <tr>\n",
       "      <th>3</th>\n",
       "      <td>5003.0</td>\n",
       "      <td>5001.0</td>\n",
       "      <td>0.0</td>\n",
       "    </tr>\n",
       "    <tr>\n",
       "      <th>4</th>\n",
       "      <td>5001.0</td>\n",
       "      <td>5004.0</td>\n",
       "      <td>0.2</td>\n",
       "    </tr>\n",
       "  </tbody>\n",
       "</table>\n",
       "</div>"
      ],
      "text/plain": [
       "    item1   item2  score\n",
       "0  5001.0  5002.0    0.4\n",
       "1  5002.0  5001.0    0.4\n",
       "2  5001.0  5003.0    0.0\n",
       "3  5003.0  5001.0    0.0\n",
       "4  5001.0  5004.0    0.2"
      ]
     },
     "execution_count": 86,
     "metadata": {},
     "output_type": "execute_result"
    }
   ],
   "source": [
    "# For each item in the list, compare with other items\n",
    "\n",
    "for ind1 in range(len(item_list)):\n",
    "    \n",
    "    # List of users who bought item 1\n",
    "    item1_users = data[data[\"ItemId\"]==item_list[ind1]][\"userId\"].tolist()\n",
    "    #print(\"Item 1 \", item1_users)\n",
    "    \n",
    "    # Get item 2 - items that are not item 1 or those that are not analyzed already\n",
    "    for ind2 in range(ind1, len(item_list)):\n",
    "        \n",
    "        if (ind1 == ind2):\n",
    "            continue\n",
    "            \n",
    "        # List of Users who bought item2\n",
    "        item2_users = data[data[\"ItemId\"] == item_list[ind2]][\"userId\"].tolist()\n",
    "        #print(\"Item 2\",item2_users)\n",
    "        \n",
    "        # Find score. Find the common list of users and divide it by the total users\n",
    "        common_users = len(set(item1_users).intersection(set(item2_users)))\n",
    "        score = common_users / user_count\n",
    "        #print(score)\n",
    "        \n",
    "        # A score for item 1, item 2\n",
    "        item_affinity.loc[row_count] = [item_list[ind1],item_list[ind2],score]\n",
    "        row_count +=1\n",
    "        \n",
    "        # A score for item2, item 1. The same score would apply irrespective of the sequence.\n",
    "        item_affinity.loc[row_count] = [item_list[ind2],item_list[ind1],score]\n",
    "        row_count +=1\n",
    "        \n",
    "# Final result\n",
    "item_affinity.head()"
   ]
  },
  {
   "cell_type": "markdown",
   "id": "2514742a",
   "metadata": {},
   "source": [
    "## RECOMMENDING ITEMS"
   ]
  },
  {
   "cell_type": "code",
   "execution_count": 87,
   "id": "484aef42",
   "metadata": {},
   "outputs": [
    {
     "name": "stdout",
     "output_type": "stream",
     "text": [
      "Recommendations for item 5001\n",
      "      item2  score\n",
      "1   5001.0    0.4\n",
      "10  5004.0    0.2\n",
      "12  5005.0    0.2\n",
      "8   5003.0    0.0\n"
     ]
    }
   ],
   "source": [
    "searchItem=5002\n",
    "recoList=item_affinity[item_affinity.item1==searchItem]\\\n",
    "        [[\"item2\",\"score\"]]\\\n",
    "            .sort_values(\"score\", ascending=[0])\n",
    "        \n",
    "print(\"Recommendations for item 5001\\n\", recoList)"
   ]
  },
  {
   "cell_type": "code",
   "execution_count": null,
   "id": "2937d6fa",
   "metadata": {},
   "outputs": [],
   "source": []
  }
 ],
 "metadata": {
  "kernelspec": {
   "display_name": "Python 3",
   "language": "python",
   "name": "python3"
  },
  "language_info": {
   "codemirror_mode": {
    "name": "ipython",
    "version": 3
   },
   "file_extension": ".py",
   "mimetype": "text/x-python",
   "name": "python",
   "nbconvert_exporter": "python",
   "pygments_lexer": "ipython3",
   "version": "3.7.9"
  }
 },
 "nbformat": 4,
 "nbformat_minor": 5
}
